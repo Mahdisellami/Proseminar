{
 "cells": [
  {
   "cell_type": "markdown",
   "metadata": {},
   "source": [
    "Hacker's Delight: Duplicate Detection using LSH.\n",
    "To use this Program you need to install from https://labrosa.ee.columbia.edu/millionsong/ (the subset that contains 10.000 songs)"
   ]
  },
  {
   "cell_type": "code",
   "execution_count": 1,
   "metadata": {
    "collapsed": true
   },
   "outputs": [],
   "source": [
    "import gzip\n",
    "import tarfile"
   ]
  },
  {
   "cell_type": "markdown",
   "metadata": {},
   "source": [
    "Here you can change the local path to the song subset"
   ]
  },
  {
   "cell_type": "code",
   "execution_count": 2,
   "metadata": {
    "collapsed": false
   },
   "outputs": [],
   "source": [
    "path = '/Users/mahdisellami/Downloads/millionsongsubset_full.tar'\n",
    "tar = tarfile.open(path, 'r')\n",
    "members = tar.getmembers()"
   ]
  },
  {
   "cell_type": "code",
   "execution_count": 3,
   "metadata": {
    "collapsed": false
   },
   "outputs": [],
   "source": [
    "import pandas as pd\n",
    "tar.extract(members[5])\n",
    "summary = pd.HDFStore(members[5].name)"
   ]
  },
  {
   "cell_type": "code",
   "execution_count": 4,
   "metadata": {
    "collapsed": false
   },
   "outputs": [],
   "source": [
    "s = summary.select('/analysis/songs')\n",
    "allFeatures = s.columns"
   ]
  },
  {
   "cell_type": "markdown",
   "metadata": {},
   "source": [
    "The user can easily add and remove features here."
   ]
  },
  {
   "cell_type": "code",
   "execution_count": 5,
   "metadata": {
    "collapsed": false,
    "scrolled": false
   },
   "outputs": [
    {
     "name": "stdout",
     "output_type": "stream",
     "text": [
      "those are the default features:\n",
      "['duration', 'end_of_fade_in', 'key', 'loudness', 'mode', 'start_of_fade_out', 'tempo', 'time_signature']\n",
      "those are all available features:\n",
      "0 : analysis_sample_rate\n",
      "1 : audio_md5\n",
      "2 : danceability\n",
      "3 : duration\n",
      "4 : end_of_fade_in\n",
      "5 : energy\n",
      "6 : idx_bars_confidence\n",
      "7 : idx_bars_start\n",
      "8 : idx_beats_confidence\n",
      "9 : idx_beats_start\n",
      "10 : idx_sections_confidence\n",
      "11 : idx_sections_start\n",
      "12 : idx_segments_confidence\n",
      "13 : idx_segments_loudness_max\n",
      "14 : idx_segments_loudness_max_time\n",
      "15 : idx_segments_loudness_start\n",
      "16 : idx_segments_pitches\n",
      "17 : idx_segments_start\n",
      "18 : idx_segments_timbre\n",
      "19 : idx_tatums_confidence\n",
      "20 : idx_tatums_start\n",
      "21 : key\n",
      "22 : key_confidence\n",
      "23 : loudness\n",
      "24 : mode\n",
      "25 : mode_confidence\n",
      "26 : start_of_fade_out\n",
      "27 : tempo\n",
      "28 : time_signature\n",
      "29 : time_signature_confidence\n",
      "30 : track_id\n",
      "write r for remove and a for add followed by the feature number(e.g. \"r 5\" for remove feature number 5) or f for finishf\n"
     ]
    }
   ],
   "source": [
    "features = ['duration', 'end_of_fade_in', 'key', 'loudness', 'mode', 'start_of_fade_out', 'tempo', 'time_signature']\n",
    "print('those are the default features:')\n",
    "print(features)\n",
    "print('those are all available features:')\n",
    "for i in range(0,len(allFeatures)):\n",
    "    print('{} : {}'.format(i,allFeatures[i]))\n",
    "i = input('write r for remove and a for add followed by the feature number(e.g. \"r 5\" for remove feature number 5) or f for finish')\n",
    "while (i[0] != 'f'):\n",
    "    if (i[0] == 'a'):\n",
    "        index = int(i[2])\n",
    "        if(allFeatures[index] not in features):\n",
    "            features.append(allFeatures[index])\n",
    "            print('The selected feature is added to the list!')\n",
    "        else:\n",
    "            print('This feature has already been selected!')\n",
    "    elif (i[0] == 'r'):\n",
    "        index = int(i[2])\n",
    "        if(allFeatures[index] in features):\n",
    "            features.remove(allFeatures[index])\n",
    "            print('The selected feature is removed from the list!')\n",
    "        else:\n",
    "            print('This feature is not selected yet!')\n",
    "    else:\n",
    "        print('Syntax error!')\n",
    "    i = input('continue? (y/n)')\n",
    "    if (i[0] == 'y'):\n",
    "        print('those are the selected features:')\n",
    "        print(features)\n",
    "        print('those are all available features:')\n",
    "        for i in range(0,len(allFeatures)):\n",
    "            print('{} : {}'.format(i,allFeatures[i]))\n",
    "        i = input('write r for remove and a for add followed by the feature number(e.g. \"r 5\" for remove feature number 5) or f for finish')\n",
    "    else:\n",
    "        i='f'"
   ]
  },
  {
   "cell_type": "markdown",
   "metadata": {},
   "source": [
    "The user can give the number of songs in the Subset."
   ]
  },
  {
   "cell_type": "code",
   "execution_count": 6,
   "metadata": {
    "collapsed": false,
    "scrolled": false
   },
   "outputs": [
    {
     "name": "stderr",
     "output_type": "stream",
     "text": [
      "/Users/mahdisellami/anaconda/lib/python3.5/site-packages/sklearn/utils/validation.py:420: DataConversionWarning: Data with input dtype int32 was converted to float64 by the scale function.\n",
      "  warnings.warn(msg, DataConversionWarning)\n",
      "/Users/mahdisellami/anaconda/lib/python3.5/site-packages/sklearn/utils/validation.py:420: DataConversionWarning: Data with input dtype int32 was converted to float64 by the scale function.\n",
      "  warnings.warn(msg, DataConversionWarning)\n",
      "/Users/mahdisellami/anaconda/lib/python3.5/site-packages/sklearn/utils/validation.py:420: DataConversionWarning: Data with input dtype int32 was converted to float64 by the scale function.\n",
      "  warnings.warn(msg, DataConversionWarning)\n"
     ]
    },
    {
     "name": "stdout",
     "output_type": "stream",
     "text": [
      "Our data set contains 10000 songs. The program is executed on the whole data set.\n",
      "You can also change the number of songs, on which the algorithm will be executed.\n",
      "Do you want to change it?(y/n)n\n"
     ]
    },
    {
     "data": {
      "text/html": [
       "<div>\n",
       "<table border=\"1\" class=\"dataframe\">\n",
       "  <thead>\n",
       "    <tr style=\"text-align: right;\">\n",
       "      <th></th>\n",
       "      <th>0</th>\n",
       "      <th>1</th>\n",
       "      <th>2</th>\n",
       "      <th>3</th>\n",
       "      <th>4</th>\n",
       "      <th>5</th>\n",
       "      <th>6</th>\n",
       "      <th>7</th>\n",
       "      <th>8</th>\n",
       "      <th>9</th>\n",
       "      <th>...</th>\n",
       "      <th>9990</th>\n",
       "      <th>9991</th>\n",
       "      <th>9992</th>\n",
       "      <th>9993</th>\n",
       "      <th>9994</th>\n",
       "      <th>9995</th>\n",
       "      <th>9996</th>\n",
       "      <th>9997</th>\n",
       "      <th>9998</th>\n",
       "      <th>9999</th>\n",
       "    </tr>\n",
       "  </thead>\n",
       "  <tbody>\n",
       "    <tr>\n",
       "      <th>duration</th>\n",
       "      <td>0.365433</td>\n",
       "      <td>-0.410240</td>\n",
       "      <td>-0.136500</td>\n",
       "      <td>0.349412</td>\n",
       "      <td>-1.308593</td>\n",
       "      <td>0.150973</td>\n",
       "      <td>0.009525</td>\n",
       "      <td>-0.714421</td>\n",
       "      <td>-0.361947</td>\n",
       "      <td>0.210939</td>\n",
       "      <td>...</td>\n",
       "      <td>-0.418480</td>\n",
       "      <td>1.686069</td>\n",
       "      <td>-0.265817</td>\n",
       "      <td>0.290361</td>\n",
       "      <td>0.077045</td>\n",
       "      <td>0.438675</td>\n",
       "      <td>-0.534522</td>\n",
       "      <td>0.896205</td>\n",
       "      <td>-1.548001</td>\n",
       "      <td>0.159670</td>\n",
       "    </tr>\n",
       "    <tr>\n",
       "      <th>end_of_fade_in</th>\n",
       "      <td>-0.278724</td>\n",
       "      <td>-0.406142</td>\n",
       "      <td>-0.406142</td>\n",
       "      <td>-0.140597</td>\n",
       "      <td>2.188808</td>\n",
       "      <td>-0.322624</td>\n",
       "      <td>-0.190387</td>\n",
       "      <td>-0.233752</td>\n",
       "      <td>-0.258379</td>\n",
       "      <td>0.840205</td>\n",
       "      <td>...</td>\n",
       "      <td>-0.258379</td>\n",
       "      <td>-0.406142</td>\n",
       "      <td>-0.406142</td>\n",
       "      <td>-0.406142</td>\n",
       "      <td>-0.333867</td>\n",
       "      <td>-0.220903</td>\n",
       "      <td>-0.406142</td>\n",
       "      <td>-0.252490</td>\n",
       "      <td>-0.303886</td>\n",
       "      <td>-0.406142</td>\n",
       "    </tr>\n",
       "    <tr>\n",
       "      <th>key</th>\n",
       "      <td>-0.077689</td>\n",
       "      <td>-1.484591</td>\n",
       "      <td>-1.203210</td>\n",
       "      <td>0.485072</td>\n",
       "      <td>-0.921830</td>\n",
       "      <td>1.047832</td>\n",
       "      <td>-0.921830</td>\n",
       "      <td>-0.359069</td>\n",
       "      <td>-0.359069</td>\n",
       "      <td>1.047832</td>\n",
       "      <td>...</td>\n",
       "      <td>-0.359069</td>\n",
       "      <td>-0.077689</td>\n",
       "      <td>-0.359069</td>\n",
       "      <td>0.485072</td>\n",
       "      <td>-1.203210</td>\n",
       "      <td>-0.077689</td>\n",
       "      <td>-1.484591</td>\n",
       "      <td>0.203691</td>\n",
       "      <td>-0.077689</td>\n",
       "      <td>1.610593</td>\n",
       "    </tr>\n",
       "    <tr>\n",
       "      <th>loudness</th>\n",
       "      <td>1.329687</td>\n",
       "      <td>-0.051547</td>\n",
       "      <td>0.268666</td>\n",
       "      <td>-2.335270</td>\n",
       "      <td>-1.828558</td>\n",
       "      <td>0.881869</td>\n",
       "      <td>-0.030990</td>\n",
       "      <td>-1.913195</td>\n",
       "      <td>-3.567787</td>\n",
       "      <td>0.896685</td>\n",
       "      <td>...</td>\n",
       "      <td>0.716484</td>\n",
       "      <td>-0.047658</td>\n",
       "      <td>1.545632</td>\n",
       "      <td>0.546098</td>\n",
       "      <td>1.028734</td>\n",
       "      <td>-0.031546</td>\n",
       "      <td>0.265147</td>\n",
       "      <td>1.410250</td>\n",
       "      <td>-2.028576</td>\n",
       "      <td>0.556840</td>\n",
       "    </tr>\n",
       "    <tr>\n",
       "      <th>mode</th>\n",
       "      <td>0.668557</td>\n",
       "      <td>0.668557</td>\n",
       "      <td>0.668557</td>\n",
       "      <td>0.668557</td>\n",
       "      <td>0.668557</td>\n",
       "      <td>0.668557</td>\n",
       "      <td>0.668557</td>\n",
       "      <td>-1.495759</td>\n",
       "      <td>0.668557</td>\n",
       "      <td>0.668557</td>\n",
       "      <td>...</td>\n",
       "      <td>0.668557</td>\n",
       "      <td>0.668557</td>\n",
       "      <td>-1.495759</td>\n",
       "      <td>-1.495759</td>\n",
       "      <td>0.668557</td>\n",
       "      <td>0.668557</td>\n",
       "      <td>0.668557</td>\n",
       "      <td>0.668557</td>\n",
       "      <td>0.668557</td>\n",
       "      <td>-1.495759</td>\n",
       "    </tr>\n",
       "    <tr>\n",
       "      <th>start_of_fade_out</th>\n",
       "      <td>0.406030</td>\n",
       "      <td>-0.408659</td>\n",
       "      <td>-0.121895</td>\n",
       "      <td>0.431504</td>\n",
       "      <td>-1.343901</td>\n",
       "      <td>0.196421</td>\n",
       "      <td>0.016307</td>\n",
       "      <td>-0.781615</td>\n",
       "      <td>-0.377872</td>\n",
       "      <td>0.242263</td>\n",
       "      <td>...</td>\n",
       "      <td>-0.447771</td>\n",
       "      <td>1.686294</td>\n",
       "      <td>-0.215344</td>\n",
       "      <td>0.337726</td>\n",
       "      <td>0.009943</td>\n",
       "      <td>0.442771</td>\n",
       "      <td>-0.496821</td>\n",
       "      <td>0.845168</td>\n",
       "      <td>-1.544507</td>\n",
       "      <td>0.137593</td>\n",
       "    </tr>\n",
       "    <tr>\n",
       "      <th>tempo</th>\n",
       "      <td>1.429385</td>\n",
       "      <td>0.796971</td>\n",
       "      <td>-0.848698</td>\n",
       "      <td>0.119307</td>\n",
       "      <td>-0.916800</td>\n",
       "      <td>-0.618158</td>\n",
       "      <td>1.447462</td>\n",
       "      <td>0.131643</td>\n",
       "      <td>0.138322</td>\n",
       "      <td>-0.935190</td>\n",
       "      <td>...</td>\n",
       "      <td>0.303688</td>\n",
       "      <td>-1.876762</td>\n",
       "      <td>2.126234</td>\n",
       "      <td>1.975449</td>\n",
       "      <td>-0.984902</td>\n",
       "      <td>-0.998545</td>\n",
       "      <td>0.093414</td>\n",
       "      <td>-0.365449</td>\n",
       "      <td>-1.323421</td>\n",
       "      <td>-0.079939</td>\n",
       "    </tr>\n",
       "    <tr>\n",
       "      <th>time_signature</th>\n",
       "      <td>1.133492</td>\n",
       "      <td>0.343712</td>\n",
       "      <td>0.343712</td>\n",
       "      <td>-2.025627</td>\n",
       "      <td>-0.446068</td>\n",
       "      <td>-2.025627</td>\n",
       "      <td>-0.446068</td>\n",
       "      <td>-2.025627</td>\n",
       "      <td>0.343712</td>\n",
       "      <td>1.133492</td>\n",
       "      <td>...</td>\n",
       "      <td>-2.025627</td>\n",
       "      <td>-2.025627</td>\n",
       "      <td>0.343712</td>\n",
       "      <td>0.343712</td>\n",
       "      <td>0.343712</td>\n",
       "      <td>0.343712</td>\n",
       "      <td>0.343712</td>\n",
       "      <td>-2.025627</td>\n",
       "      <td>0.343712</td>\n",
       "      <td>0.343712</td>\n",
       "    </tr>\n",
       "  </tbody>\n",
       "</table>\n",
       "<p>8 rows × 10000 columns</p>\n",
       "</div>"
      ],
      "text/plain": [
       "                       0         1         2         3         4         5     \\\n",
       "duration           0.365433 -0.410240 -0.136500  0.349412 -1.308593  0.150973   \n",
       "end_of_fade_in    -0.278724 -0.406142 -0.406142 -0.140597  2.188808 -0.322624   \n",
       "key               -0.077689 -1.484591 -1.203210  0.485072 -0.921830  1.047832   \n",
       "loudness           1.329687 -0.051547  0.268666 -2.335270 -1.828558  0.881869   \n",
       "mode               0.668557  0.668557  0.668557  0.668557  0.668557  0.668557   \n",
       "start_of_fade_out  0.406030 -0.408659 -0.121895  0.431504 -1.343901  0.196421   \n",
       "tempo              1.429385  0.796971 -0.848698  0.119307 -0.916800 -0.618158   \n",
       "time_signature     1.133492  0.343712  0.343712 -2.025627 -0.446068 -2.025627   \n",
       "\n",
       "                       6         7         8         9       ...         9990  \\\n",
       "duration           0.009525 -0.714421 -0.361947  0.210939    ...    -0.418480   \n",
       "end_of_fade_in    -0.190387 -0.233752 -0.258379  0.840205    ...    -0.258379   \n",
       "key               -0.921830 -0.359069 -0.359069  1.047832    ...    -0.359069   \n",
       "loudness          -0.030990 -1.913195 -3.567787  0.896685    ...     0.716484   \n",
       "mode               0.668557 -1.495759  0.668557  0.668557    ...     0.668557   \n",
       "start_of_fade_out  0.016307 -0.781615 -0.377872  0.242263    ...    -0.447771   \n",
       "tempo              1.447462  0.131643  0.138322 -0.935190    ...     0.303688   \n",
       "time_signature    -0.446068 -2.025627  0.343712  1.133492    ...    -2.025627   \n",
       "\n",
       "                       9991      9992      9993      9994      9995      9996  \\\n",
       "duration           1.686069 -0.265817  0.290361  0.077045  0.438675 -0.534522   \n",
       "end_of_fade_in    -0.406142 -0.406142 -0.406142 -0.333867 -0.220903 -0.406142   \n",
       "key               -0.077689 -0.359069  0.485072 -1.203210 -0.077689 -1.484591   \n",
       "loudness          -0.047658  1.545632  0.546098  1.028734 -0.031546  0.265147   \n",
       "mode               0.668557 -1.495759 -1.495759  0.668557  0.668557  0.668557   \n",
       "start_of_fade_out  1.686294 -0.215344  0.337726  0.009943  0.442771 -0.496821   \n",
       "tempo             -1.876762  2.126234  1.975449 -0.984902 -0.998545  0.093414   \n",
       "time_signature    -2.025627  0.343712  0.343712  0.343712  0.343712  0.343712   \n",
       "\n",
       "                       9997      9998      9999  \n",
       "duration           0.896205 -1.548001  0.159670  \n",
       "end_of_fade_in    -0.252490 -0.303886 -0.406142  \n",
       "key                0.203691 -0.077689  1.610593  \n",
       "loudness           1.410250 -2.028576  0.556840  \n",
       "mode               0.668557  0.668557 -1.495759  \n",
       "start_of_fade_out  0.845168 -1.544507  0.137593  \n",
       "tempo             -0.365449 -1.323421 -0.079939  \n",
       "time_signature    -2.025627  0.343712  0.343712  \n",
       "\n",
       "[8 rows x 10000 columns]"
      ]
     },
     "execution_count": 6,
     "metadata": {},
     "output_type": "execute_result"
    }
   ],
   "source": [
    "from sklearn import preprocessing\n",
    "m = s.reindex(columns=features)\n",
    "for feature in features:\n",
    "    m[feature]  = preprocessing.scale(m[feature])\n",
    "songs = m[features[0]].size\n",
    "N = songs\n",
    "print('Our data set contains {} songs. The program is executed on the whole data set.'.format(N))\n",
    "print('You can also change the number of songs, on which the algorithm will be executed.')\n",
    "i = input('Do you want to change it?(y/n)')\n",
    "if (i[0]=='y'):\n",
    "    j = input('N=')\n",
    "    while (int(j)>songs):\n",
    "        j = input('N must be lower or equal to {}. N='.format(songs))\n",
    "    N = int(j)\n",
    "m = m[0:N].T\n",
    "m"
   ]
  },
  {
   "cell_type": "markdown",
   "metadata": {},
   "source": [
    "The user can give the values of rows, bands for LSH and the maximum angle for cosine distance. "
   ]
  },
  {
   "cell_type": "code",
   "execution_count": 7,
   "metadata": {
    "collapsed": false
   },
   "outputs": [
    {
     "name": "stdout",
     "output_type": "stream",
     "text": [
      "For LSH we need the number of rows and bands\n",
      "These are the default values:\n",
      "rows=64 and bands=3\n",
      "Do you want to change them?(y/n)n\n",
      "In order to definec duplicates using the exact cosine distance we need the maximum angle between two duplicates\n",
      "This is the default value:\n",
      "epsilone=2\n",
      "Do you want to change them?(y/n)n\n"
     ]
    }
   ],
   "source": [
    "print('For LSH we need the number of rows and bands')\n",
    "print('These are the default values:')\n",
    "r = 64\n",
    "b = 3\n",
    "print('rows={} and bands={}'.format(r,b))\n",
    "i = input('Do you want to change them?(y/n)')\n",
    "if (i[0]=='y'):\n",
    "    j = input('rows=')\n",
    "    r = int(j)\n",
    "    j = input('bands=')\n",
    "    b = int(j)\n",
    "print('In order to definec duplicates using the exact cosine distance we need the maximum angle between two duplicates')\n",
    "print('This is the default value:')\n",
    "eps = 2\n",
    "print('epsilone={}'.format(eps))\n",
    "i = input('Do you want to change them?(y/n)')\n",
    "if (i[0]=='y'):\n",
    "    j = input('epsilone=')\n",
    "    eps = int(j)"
   ]
  },
  {
   "cell_type": "markdown",
   "metadata": {},
   "source": [
    "For each Band we generate a Hyper-plane for each Row and then we compute the Hash Value according to those Hyper-Planes. Candidates are stored in the list 'candidates'"
   ]
  },
  {
   "cell_type": "code",
   "execution_count": 8,
   "metadata": {
    "collapsed": false
   },
   "outputs": [],
   "source": [
    "import numpy as np\n",
    "from collections import defaultdict\n",
    "candidates = []\n",
    "for j in range(0, b):\n",
    "    v = np.random.randn(r, len(features))\n",
    "    md = defaultdict(list)\n",
    "\n",
    "    for x in range(0,N):\n",
    "        hashValue = '';\n",
    "        for i in range(0, r):\n",
    "            dist = np.inner(v[i], m[x])\n",
    "            if (dist<0):\n",
    "                dist = '-1'\n",
    "            else:\n",
    "                dist = '1'\n",
    "            hashValue = hashValue + dist\n",
    "        md[hashValue].append(x)\n",
    "    for k in md :\n",
    "        if len(md[k])>1 :\n",
    "            candidates.append(md[k])"
   ]
  },
  {
   "cell_type": "markdown",
   "metadata": {},
   "source": [
    "We just take 'candidates' as input and convert it to a set of unordered pairs. Each pair is a final candidate."
   ]
  },
  {
   "cell_type": "code",
   "execution_count": 9,
   "metadata": {
    "collapsed": false
   },
   "outputs": [
    {
     "name": "stdout",
     "output_type": "stream",
     "text": [
      "There is a total of 4087 candidates.\n"
     ]
    }
   ],
   "source": [
    "import itertools\n",
    "canSet = [] \n",
    "for candidate in candidates:\n",
    "    for result in itertools.combinations(candidate, 2):\n",
    "        canSet.append(result)\n",
    "canSet = set(frozenset(p) for p in canSet )\n",
    "print('There is a total of {} candidates.'.format(len(canSet)))\n"
   ]
  },
  {
   "cell_type": "markdown",
   "metadata": {},
   "source": [
    "We take our set of candidates and for each candidate we compute the exact cosine distance and we consider a candidate as a duplicate if the cosine distance lower or equal than the cosine distance of the given maximum angle(epsilone)."
   ]
  },
  {
   "cell_type": "code",
   "execution_count": 10,
   "metadata": {
    "collapsed": false
   },
   "outputs": [
    {
     "name": "stdout",
     "output_type": "stream",
     "text": [
      "There is a total of 23 duplicates, which are:\n"
     ]
    },
    {
     "data": {
      "text/plain": [
       "[(4961, 8609),\n",
       " (8632, 4076),\n",
       " (2785, 2597),\n",
       " (6427, 70),\n",
       " (5699, 6948),\n",
       " (2361, 8286),\n",
       " (8948, 1063),\n",
       " (3698, 3669),\n",
       " (3088, 5529),\n",
       " (908, 3742),\n",
       " (99, 9651),\n",
       " (3562, 1652),\n",
       " (2569, 612),\n",
       " (8449, 8543),\n",
       " (8617, 2628),\n",
       " (2747, 437),\n",
       " (3106, 8503),\n",
       " (4826, 5442),\n",
       " (3504, 615),\n",
       " (5970, 8978),\n",
       " (585, 2035),\n",
       " (8115, 6983),\n",
       " (8632, 1899)]"
      ]
     },
     "execution_count": 10,
     "metadata": {},
     "output_type": "execute_result"
    }
   ],
   "source": [
    "from scipy import spatial\n",
    "cosDisEps = 1 - np.cos(np.deg2rad(eps))\n",
    "duplicates = []\n",
    "for candidate in canSet:\n",
    "    first, second = candidate\n",
    "    cosDis = spatial.distance.cosine(m[first], m[second])\n",
    "    if (cosDis <= cosDisEps):\n",
    "        duplicates.append((first, second))\n",
    "print('There is a total of {} duplicates, which are:'.format(len(duplicates)))\n",
    "duplicates"
   ]
  },
  {
   "cell_type": "code",
   "execution_count": null,
   "metadata": {
    "collapsed": true
   },
   "outputs": [],
   "source": []
  },
  {
   "cell_type": "code",
   "execution_count": null,
   "metadata": {
    "collapsed": true
   },
   "outputs": [],
   "source": []
  }
 ],
 "metadata": {
  "anaconda-cloud": {},
  "kernelspec": {
   "display_name": "Python [conda root]",
   "language": "python",
   "name": "conda-root-py"
  },
  "language_info": {
   "codemirror_mode": {
    "name": "ipython",
    "version": 3
   },
   "file_extension": ".py",
   "mimetype": "text/x-python",
   "name": "python",
   "nbconvert_exporter": "python",
   "pygments_lexer": "ipython3",
   "version": "3.5.2"
  }
 },
 "nbformat": 4,
 "nbformat_minor": 1
}
